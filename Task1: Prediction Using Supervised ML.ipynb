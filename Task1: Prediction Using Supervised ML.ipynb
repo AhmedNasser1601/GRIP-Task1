{
  "nbformat": 4,
  "nbformat_minor": 0,
  "metadata": {
    "colab": {
      "name": "GRIP - Task1.ipynb",
      "provenance": [],
      "collapsed_sections": [],
      "authorship_tag": "ABX9TyMHPOh6gJOg+ZsYTX4GAjog",
      "include_colab_link": true
    },
    "kernelspec": {
      "name": "python3",
      "display_name": "Python 3"
    },
    "language_info": {
      "name": "python"
    }
  },
  "cells": [
    {
      "cell_type": "markdown",
      "metadata": {
        "id": "view-in-github",
        "colab_type": "text"
      },
      "source": [
        "<a href=\"https://colab.research.google.com/github/AhmedNasser1601/GRIP-Task1/blob/Main/Task1%3A%20Prediction%20Using%20Supervised%20ML.ipynb\" target=\"_parent\"><img src=\"https://colab.research.google.com/assets/colab-badge.svg\" alt=\"Open In Colab\"/></a>"
      ]
    },
    {
      "cell_type": "markdown",
      "source": [
        "# ***Name: Ahmed Nasser***\n",
        "# ***Task1: Prediction Using Supervised ML***\n",
        "---\n",
        ">Linear Regression\n",
        "---"
      ],
      "metadata": {
        "id": "wlWwvdPjSYHh"
      }
    },
    {
      "cell_type": "code",
      "execution_count": null,
      "metadata": {
        "id": "6bPTLZdGAoIY"
      },
      "outputs": [],
      "source": [
        "import numpy as np\n",
        "import pandas as pd\n",
        "\n",
        "from sklearn.model_selection import *\n",
        "from sklearn.linear_model import *"
      ]
    },
    {
      "cell_type": "code",
      "source": [
        "studentScores = 'https://raw.githubusercontent.com/AdiPersonalWorks/Random/master/student_scores%20-%20student_scores.csv'\n",
        "dataset = pd.read_csv(studentScores)\n",
        "\n",
        "hoursTEST = 9.25"
      ],
      "metadata": {
        "id": "1ZERlTwTVdkQ"
      },
      "execution_count": null,
      "outputs": []
    },
    {
      "cell_type": "code",
      "source": [
        "x = dataset.iloc[:, :-1].values\n",
        "y = dataset.iloc[:, 1].values\n",
        "\n",
        "x_train, x_test, y_train, y_test = train_test_split(x, y, test_size=0.2, random_state=1)"
      ],
      "metadata": {
        "id": "SrYuk-ttz8Ao"
      },
      "execution_count": null,
      "outputs": []
    },
    {
      "cell_type": "markdown",
      "source": [
        "---\n",
        "> |> Linear Regression"
      ],
      "metadata": {
        "id": "HqSrOYddn48w"
      }
    },
    {
      "cell_type": "code",
      "source": [
        "regVal = LinearRegression().fit(x_train.reshape(-1, 1), y_train)\n",
        "prediction = regVal.predict((np.array([hoursTEST])).reshape(-1, 1))\n",
        "\n",
        "print('Linear Regression Accuracy:', prediction[0], '%')"
      ],
      "metadata": {
        "colab": {
          "base_uri": "https://localhost:8080/"
        },
        "id": "7-AP9m973GVN",
        "outputId": "444b8f07-f6ea-45fd-a98b-7551e48c4eb2"
      },
      "execution_count": null,
      "outputs": [
        {
          "output_type": "stream",
          "name": "stdout",
          "text": [
            "Linear Regression Accuracy: 95.22829438402952 %\n"
          ]
        }
      ]
    }
  ]
}